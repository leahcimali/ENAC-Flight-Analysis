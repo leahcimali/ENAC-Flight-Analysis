{
 "cells": [
  {
   "cell_type": "code",
   "execution_count": 4,
   "id": "f35c14e0-4ce2-4b11-a857-57fa810123d4",
   "metadata": {},
   "outputs": [
    {
     "name": "stdout",
     "output_type": "stream",
     "text": [
      "Requirement already satisfied: asterix-decoder in /home/michael/anaconda3/lib/python3.9/site-packages (0.7.3)\n",
      "Requirement already satisfied: dpkt in /home/michael/anaconda3/lib/python3.9/site-packages (1.9.7.2)\n"
     ]
    }
   ],
   "source": [
    "!pip install asterix-decoder\n",
    "!pip install dpkt\n"
   ]
  },
  {
   "cell_type": "code",
   "execution_count": 1,
   "id": "ddddb30a-72b0-476f-98f2-6939829eb76f",
   "metadata": {},
   "outputs": [],
   "source": [
    "import pandas as pd\n",
    "import numpy as np\n",
    "import matplotlib.pyplot as plt\n",
    "import seaborn as sns\n",
    "import asterix \n",
    "import dpkt"
   ]
  },
  {
   "cell_type": "code",
   "execution_count": 2,
   "id": "1af13490-4f6b-4a7e-b926-2e6a5c900c67",
   "metadata": {},
   "outputs": [],
   "source": [
    "df = pd.read_csv('data_csv/2020-09-04-2225.csv')"
   ]
  },
  {
   "cell_type": "code",
   "execution_count": 3,
   "id": "994a40e6-e783-41ec-845d-abd8cdcda01c",
   "metadata": {},
   "outputs": [
    {
     "data": {
      "text/html": [
       "<div>\n",
       "<style scoped>\n",
       "    .dataframe tbody tr th:only-of-type {\n",
       "        vertical-align: middle;\n",
       "    }\n",
       "\n",
       "    .dataframe tbody tr th {\n",
       "        vertical-align: top;\n",
       "    }\n",
       "\n",
       "    .dataframe thead th {\n",
       "        text-align: right;\n",
       "    }\n",
       "</style>\n",
       "<table border=\"1\" class=\"dataframe\">\n",
       "  <thead>\n",
       "    <tr style=\"text-align: right;\">\n",
       "      <th></th>\n",
       "      <th>No.</th>\n",
       "      <th>Time</th>\n",
       "      <th>Source</th>\n",
       "      <th>Destination</th>\n",
       "      <th>Protocol</th>\n",
       "      <th>Length</th>\n",
       "      <th>Info</th>\n",
       "    </tr>\n",
       "  </thead>\n",
       "  <tbody>\n",
       "    <tr>\n",
       "      <th>0</th>\n",
       "      <td>1</td>\n",
       "      <td>0.000000</td>\n",
       "      <td>102.17.111.42</td>\n",
       "      <td>232.208.0.22</td>\n",
       "      <td>ASTERIX</td>\n",
       "      <td>103</td>\n",
       "      <td>NaN</td>\n",
       "    </tr>\n",
       "    <tr>\n",
       "      <th>1</th>\n",
       "      <td>2</td>\n",
       "      <td>0.008718</td>\n",
       "      <td>102.17.111.42</td>\n",
       "      <td>232.208.0.22</td>\n",
       "      <td>ASTERIX</td>\n",
       "      <td>98</td>\n",
       "      <td>NaN</td>\n",
       "    </tr>\n",
       "    <tr>\n",
       "      <th>2</th>\n",
       "      <td>3</td>\n",
       "      <td>0.015771</td>\n",
       "      <td>102.17.111.36</td>\n",
       "      <td>232.208.0.204</td>\n",
       "      <td>ASTERIX</td>\n",
       "      <td>60</td>\n",
       "      <td>NaN</td>\n",
       "    </tr>\n",
       "    <tr>\n",
       "      <th>3</th>\n",
       "      <td>4</td>\n",
       "      <td>0.021070</td>\n",
       "      <td>102.17.111.38</td>\n",
       "      <td>232.208.0.26</td>\n",
       "      <td>ASTERIX</td>\n",
       "      <td>141</td>\n",
       "      <td>NaN</td>\n",
       "    </tr>\n",
       "    <tr>\n",
       "      <th>4</th>\n",
       "      <td>5</td>\n",
       "      <td>0.024568</td>\n",
       "      <td>102.17.111.30</td>\n",
       "      <td>232.208.0.74</td>\n",
       "      <td>ASTERIX</td>\n",
       "      <td>215</td>\n",
       "      <td>NaN</td>\n",
       "    </tr>\n",
       "  </tbody>\n",
       "</table>\n",
       "</div>"
      ],
      "text/plain": [
       "   No.      Time         Source    Destination Protocol  Length  Info\n",
       "0    1  0.000000  102.17.111.42   232.208.0.22  ASTERIX     103   NaN\n",
       "1    2  0.008718  102.17.111.42   232.208.0.22  ASTERIX      98   NaN\n",
       "2    3  0.015771  102.17.111.36  232.208.0.204  ASTERIX      60   NaN\n",
       "3    4  0.021070  102.17.111.38   232.208.0.26  ASTERIX     141   NaN\n",
       "4    5  0.024568  102.17.111.30   232.208.0.74  ASTERIX     215   NaN"
      ]
     },
     "execution_count": 3,
     "metadata": {},
     "output_type": "execute_result"
    }
   ],
   "source": [
    "df.head()"
   ]
  },
  {
   "cell_type": "code",
   "execution_count": 10,
   "id": "df8716af-7bfd-4d6d-be6c-21eac50d5bd3",
   "metadata": {},
   "outputs": [],
   "source": [
    "# Read example file from packet resources\n",
    "sample_filename = '2020-09-04-2225.pcap'\n",
    "f = open(sample_filename, \"rb\")\n",
    "pcap = dpkt.pcap.Reader(f)\n",
    "dic = {}\n",
    "asterix_data = {}\n",
    "   "
   ]
  },
  {
   "cell_type": "code",
   "execution_count": 12,
   "id": "8c5fcbdd-1d4e-4778-8fd2-8f589bcacb9c",
   "metadata": {},
   "outputs": [],
   "source": [
    "cntr=1\n",
    "for ts, buf in pcap:\n",
    "    eth = dpkt.ethernet.Ethernet(buf)\n",
    "    data = eth.ip.udp.data\n",
    "    hexdata = \":\".join(\"{:02x}\".format(ord(c)) for c in str(data))\n",
    "    dic['Parsing packet {}'.format(cntr)] = hexdata\n",
    "    asterix_data[cntr] = data \n",
    "    cntr += 1"
   ]
  },
  {
   "cell_type": "code",
   "execution_count": 25,
   "id": "966b29e1-17f3-4fe7-907b-29d07c10e21e",
   "metadata": {},
   "outputs": [
    {
     "name": "stdout",
     "output_type": "stream",
     "text": [
      "Parsing packet 1 : 62:27:30:5c:78:30:30:24:5c:78:66:39:5c:78:64:37:5c:78:30:32:5c:78:30:38:5c:78:30:35:5c:78:38:66:5c:78:39:39:5c:78:31:36:5c:78:30:38:76:5c:78:31:34:46:5c:78:64:66:5c:78:30:32:5c:78:30:30:47:5c:78:31:66:38:5d:5c:78:61:36:5c:78:62:32:5c:78:64:33:5c:78:39:64:20:5c:78:30:30:5c:78:64:31:5c:78:30:38:5c:78:61:31:2a:5c:78:38:64:40:20:5c:78:66:64:22:5c:78:30:30:5c:78:31:34:5c:78:66:36:5c:78:30:38:5c:78:30:35:5c:78:30:32:5c:78:38:66:5c:78:39:39:39:48:5c:78:39:34:40:5c:78:30:30:46:5c:78:30:30:5c:78:39:34:5c:78:30:30:5c:78:30:30:5c:78:30:30:27\n"
     ]
    }
   ],
   "source": [
    "print('Parsing packet 1 : {}'.format(dic['Parsing packet 1']))"
   ]
  },
  {
   "cell_type": "code",
   "execution_count": 31,
   "id": "5dcc7aa4-bdff-4cd9-adf6-236ca6ce62ef",
   "metadata": {
    "tags": []
   },
   "outputs": [
    {
     "name": "stdout",
     "output_type": "stream",
     "text": [
      "Dictionnary type\n"
     ]
    },
    {
     "data": {
      "text/plain": [
       "{'category': 48,\n",
       " 'len': 33,\n",
       " 'crc': '62D5667C',\n",
       " 'ts': 0,\n",
       " 'hexdata': 'F9D70208058F991608761446DF0200471F385DA6B2D39D2000D108A12A8D4020FD',\n",
       " 'I010': {'SAC': {'desc': 'System Area Code', 'val': 8},\n",
       "  'SIC': {'desc': 'System Identification Code', 'val': 5}},\n",
       " 'I140': {'ToD': {'desc': 'Time Of Day', 'val': 73522.171875}},\n",
       " 'I020': {'TYP': {'desc': 'TYP', 'val': 0, 'meaning': 'No detection'},\n",
       "  'SIM': {'desc': 'SIM', 'val': 0, 'meaning': 'Actual target report'},\n",
       "  'RDP': {'desc': 'RDP', 'val': 1, 'meaning': 'Report from RDP Chain 2'},\n",
       "  'SPI': {'desc': 'SPI', 'val': 0, 'meaning': 'Absence of SPI'},\n",
       "  'RAB': {'desc': 'RAB',\n",
       "   'val': 0,\n",
       "   'meaning': 'Report from aircraft transponder'},\n",
       "  'FX': {'desc': 'FX', 'val': 0, 'meaning': 'End of Data Item'}},\n",
       " 'I040': {'RHO': {'desc': '', 'val': 118.078125, 'max': 256.0},\n",
       "  'THETA': {'desc': '', 'val': 99.6624755859375}},\n",
       " 'I070': {'V': {'desc': '', 'val': 0, 'meaning': 'Code validated'},\n",
       "  'G': {'desc': '', 'val': 0, 'meaning': 'Default'},\n",
       "  'L': {'desc': '',\n",
       "   'val': 0,\n",
       "   'meaning': 'Mode-3/A code as derived from the reply of the transponder'},\n",
       "  'spare': {'desc': 'spare bit set to 0', 'val': 0, 'const': 0},\n",
       "  'Mode3A': {'desc': 'Mode-3/A reply code', 'val': '1000'}},\n",
       " 'I220': {'ACAddr': {'desc': 'AircraftAddress', 'val': '471F38'}},\n",
       " 'I240': {'TId': {'desc': 'Characters 1-8 (coded on 6 bits each) defining target identification',\n",
       "   'val': 'WZZ2494 '}},\n",
       " 'I161': {'Tn': {'desc': 'Track Number', 'val': 209}},\n",
       " 'I200': {'CGS': {'desc': 'Calculated groundspeed', 'val': 485.3759765625},\n",
       "  'CHdg': {'desc': 'Calculated heading', 'val': 59.8370361328125}},\n",
       " 'I170': {'CNF': {'desc': 'CNF', 'val': 0, 'meaning': 'Confirmed Track'},\n",
       "  'RAD': {'desc': 'RAD', 'val': 2, 'meaning': 'SSR/ModeS Track'},\n",
       "  'DOU': {'desc': 'DOU', 'val': 0, 'meaning': 'Normal confidence'},\n",
       "  'MAH': {'desc': 'MAH', 'val': 0, 'meaning': 'No horizontal man. sensed'},\n",
       "  'CDM': {'desc': 'CDM', 'val': 0, 'meaning': 'Maintaining'},\n",
       "  'FX': {'desc': 'FX', 'val': 0, 'meaning': 'End of Data Item'}},\n",
       " 'I230': {'COM': {'desc': 'COM', 'val': 1},\n",
       "  'STAT': {'desc': 'STAT', 'val': 0},\n",
       "  'SI': {'desc': 'SI/II Transponder Capability',\n",
       "   'val': 0,\n",
       "   'meaning': 'SI-Code Capable'},\n",
       "  'spare': {'desc': 'spare bit set to 0', 'val': 0, 'const': 0},\n",
       "  'ModeSSSC': {'desc': 'ModeS Specific Service Capability',\n",
       "   'val': 1,\n",
       "   'meaning': 'Yes'},\n",
       "  'ARC': {'desc': 'Altitude reporting capability',\n",
       "   'val': 1,\n",
       "   'meaning': '25ft resolution'},\n",
       "  'AIC': {'desc': 'Aircraft identification capability',\n",
       "   'val': 1,\n",
       "   'meaning': 'Yes'},\n",
       "  'BDS16': {'desc': 'BDS 1,0 bit 16', 'val': 1},\n",
       "  'BDS37': {'desc': 'BDS 1,0 bits 37/40', 'val': 13}}}"
      ]
     },
     "execution_count": 31,
     "metadata": {},
     "output_type": "execute_result"
    }
   ],
   "source": [
    "parsed = asterix.parse(asterix_data[1])\n",
    "print('Dictionnary type ')\n",
    "parsed[0]"
   ]
  },
  {
   "cell_type": "code",
   "execution_count": 32,
   "id": "29ca487f-ec5d-4671-90d5-b2abf2a9934d",
   "metadata": {},
   "outputs": [
    {
     "name": "stdout",
     "output_type": "stream",
     "text": [
      "Dictionnary type\n"
     ]
    },
    {
     "data": {
      "text/plain": [
       "{'category': 34,\n",
       " 'len': 17,\n",
       " 'crc': '6B5E593B',\n",
       " 'ts': 0,\n",
       " 'hexdata': 'F60805028F993948944000460094000000',\n",
       " 'I010': {'SAC': {'desc': 'System Area Code', 'val': 8},\n",
       "  'SIC': {'desc': 'System Identification Code', 'val': 5}},\n",
       " 'I000': {'MsgTyp': {'desc': 'Message Type',\n",
       "   'val': 2,\n",
       "   'meaning': 'Sector crossing message'}},\n",
       " 'I030': {'ToD': {'desc': 'Time of day', 'val': 73522.4453125}},\n",
       " 'I020': {'Azi': {'desc': 'Antenna azimuth', 'val': 101.25}},\n",
       " 'I050': {'COM': {'NOGO': {'desc': 'Operational Release Status of the System',\n",
       "    'val': 0,\n",
       "    'meaning': 'System is released for operational use'},\n",
       "   'RDPC': {'desc': 'Radar Data Processor Chain Selection Status',\n",
       "    'val': 1,\n",
       "    'meaning': 'RDPC-2 selected'},\n",
       "   'RDPR': {'desc': 'Event to signal a reset/restart of the selected Radar Data Processor Chain',\n",
       "    'val': 0,\n",
       "    'meaning': 'Default'},\n",
       "   'OVLRDP': {'desc': 'Radar Data Processor Overload Indicator',\n",
       "    'val': 0,\n",
       "    'meaning': 'No overload'},\n",
       "   'OVLXMT': {'desc': 'Transmission Subsystem Overload Status',\n",
       "    'val': 0,\n",
       "    'meaning': 'No overload'},\n",
       "   'MSC': {'desc': 'Monitoring System Connected Status',\n",
       "    'val': 0,\n",
       "    'meaning': 'Monitoring system connected'},\n",
       "   'TSV': {'desc': 'Time Source Validity',\n",
       "    'val': 0,\n",
       "    'meaning': 'Time source valid'},\n",
       "   'spare': {'desc': 'spare bit set to 0', 'val': 0, 'const': 0}},\n",
       "  'PSR': {'PSRANT': {'desc': 'Selected PSR antenna',\n",
       "    'val': 0,\n",
       "    'meaning': 'antenna 1'},\n",
       "   'PSRCHAB': {'desc': 'PSR Channel A/B selection status',\n",
       "    'val': 0,\n",
       "    'meaning': 'No channel selected'},\n",
       "   'PSROVL': {'desc': 'PSSR Overload condition',\n",
       "    'val': 0,\n",
       "    'meaning': 'No overload'},\n",
       "   'PSRMSC': {'desc': 'PSSR Monitoring System Connected Status',\n",
       "    'val': 0,\n",
       "    'meaning': 'Monitoring system connected'},\n",
       "   'spare': {'desc': 'spare bit set to 0', 'val': 0, 'const': 0}},\n",
       "  'MDS': {'MDSANT': {'desc': 'Mode S Selected antenna',\n",
       "    'val': 0,\n",
       "    'meaning': 'antenna 1'},\n",
       "   'MDSCHAB': {'desc': 'Mode S Channel A/B selection status for surveillance',\n",
       "    'val': 2,\n",
       "    'meaning': 'Channel B only selected'},\n",
       "   'MDSOVLSUR': {'desc': 'Mode S Overload condition',\n",
       "    'val': 0,\n",
       "    'meaning': 'No overload'},\n",
       "   'MDSMSC': {'desc': 'Mode S Monitoring System Connected Status',\n",
       "    'val': 0,\n",
       "    'meaning': 'Monitoring system connected'},\n",
       "   'MDSSCF': {'desc': 'Mode S Channel A/B sellection for Surveillance Co-ordination Function',\n",
       "    'val': 1,\n",
       "    'meaning': 'Channel B in use'},\n",
       "   'MDSDLF': {'desc': 'Mode S Channel A/B sellection for Data Link Function',\n",
       "    'val': 1,\n",
       "    'meaning': 'Channel B in use'},\n",
       "   'MDSOVLSCF': {'desc': 'Mode S Overload in Surveillance Co-ordination Function',\n",
       "    'val': 0,\n",
       "    'meaning': 'No overload'},\n",
       "   'MDSOVLDLF': {'desc': 'Mode S Overload in Data Link Function',\n",
       "    'val': 0,\n",
       "    'meaning': 'No overload'},\n",
       "   'spare': {'desc': 'spare bit set to 0', 'val': 0, 'const': 0}}},\n",
       " 'I060': {'COM': {'spare': {'desc': 'spare bit set to 0',\n",
       "    'val': 0,\n",
       "    'const': 0},\n",
       "   'REDRDP': {'desc': 'Reduction Steps in use for an overload of the RDP',\n",
       "    'val': 0,\n",
       "    'meaning': 'No reduction active'},\n",
       "   'REDXMT': {'desc': 'Reduction Steps in use for an overload of the Transmission subsystem',\n",
       "    'val': 0,\n",
       "    'meaning': 'No reduction active'}},\n",
       "  'PSR': {'POL': {'desc': 'Polarization in use by PSR',\n",
       "    'val': 0,\n",
       "    'meaning': 'Linear'},\n",
       "   'PSRREDRAD': {'desc': 'Reduction Steps in use as result of an overload within the PSR subsystem',\n",
       "    'val': 0,\n",
       "    'meaning': 'No reduction active'},\n",
       "   'STC': {'desc': 'Sensitivity Time Control Map in use',\n",
       "    'val': 0,\n",
       "    'meaning': 'STC Map-1'},\n",
       "   'spare': {'desc': 'spare bit set to 0', 'val': 0, 'const': 0}},\n",
       "  'MDS': {'MDSREDRAD': {'desc': 'Reduction Steps in use as result of an overload within the Mode S subsystem',\n",
       "    'val': 0,\n",
       "    'meaning': 'No reduction active'},\n",
       "   'CLU': {'desc': 'Cluster State', 'val': 0, 'meaning': 'Autonomous'},\n",
       "   'spare': {'desc': 'spare bit set to 0', 'val': 0, 'const': 0}}}}"
      ]
     },
     "execution_count": 32,
     "metadata": {},
     "output_type": "execute_result"
    }
   ],
   "source": [
    "print('Dictionnary type')\n",
    "parsed[1]"
   ]
  },
  {
   "cell_type": "code",
   "execution_count": 33,
   "id": "420855de-fbe1-49c2-9f9b-c055e47c539d",
   "metadata": {},
   "outputs": [
    {
     "data": {
      "text/plain": [
       "2084639"
      ]
     },
     "execution_count": 33,
     "metadata": {},
     "output_type": "execute_result"
    }
   ],
   "source": [
    "len(dic)"
   ]
  },
  {
   "cell_type": "code",
   "execution_count": 34,
   "id": "793eebda-a7a4-4a1e-bbd0-d91f0b88cdaa",
   "metadata": {},
   "outputs": [
    {
     "data": {
      "text/plain": [
       "2084639"
      ]
     },
     "execution_count": 34,
     "metadata": {},
     "output_type": "execute_result"
    }
   ],
   "source": []
  },
  {
   "cell_type": "code",
   "execution_count": null,
   "id": "efd3b755-a5c2-485a-8cee-8bcbcb364c8f",
   "metadata": {},
   "outputs": [],
   "source": []
  }
 ],
 "metadata": {
  "kernelspec": {
   "display_name": "Python 3 (ipykernel)",
   "language": "python",
   "name": "python3"
  },
  "language_info": {
   "codemirror_mode": {
    "name": "ipython",
    "version": 3
   },
   "file_extension": ".py",
   "mimetype": "text/x-python",
   "name": "python",
   "nbconvert_exporter": "python",
   "pygments_lexer": "ipython3",
   "version": "3.9.7"
  }
 },
 "nbformat": 4,
 "nbformat_minor": 5
}
