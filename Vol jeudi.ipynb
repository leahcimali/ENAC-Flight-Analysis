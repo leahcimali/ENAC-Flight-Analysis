{
 "cells": [
  {
   "cell_type": "code",
   "execution_count": 1,
   "id": "f738c019-ff3f-4f8f-a02e-e0906ed97550",
   "metadata": {},
   "outputs": [
    {
     "name": "stdout",
     "output_type": "stream",
     "text": [
      "Collecting asterix_decoder\n",
      "  Using cached asterix_decoder-0.7.3-cp39-cp39-linux_x86_64.whl\n",
      "Installing collected packages: asterix-decoder\n",
      "Successfully installed asterix-decoder-0.7.3\n"
     ]
    }
   ],
   "source": [
    "!pip install asterix_decoder"
   ]
  },
  {
   "cell_type": "code",
   "execution_count": 2,
   "id": "dd9de19f-fde3-42f5-8d8c-b43be75dbea2",
   "metadata": {},
   "outputs": [],
   "source": [
    "import pandas as pd\n",
    "import numpy as np\n",
    "import matplotlib.pyplot as plt\n",
    "import seaborn as sns\n",
    "import asterix\n",
    "import dpkt\n",
    "%matplotlib inline"
   ]
  },
  {
   "cell_type": "code",
   "execution_count": 3,
   "id": "856796e5-10dd-4351-90ae-1b630b8f689f",
   "metadata": {},
   "outputs": [],
   "source": [
    "# Read example file from packet resources\n",
    "sample_filename = ['09-10.pcap','09-17.pcap', '09-24.pcap','10-01.pcap','10-08.pcap','10-15.pcap','10-22.pcap','10-29.pcap','11-05.pcap','11-12.pcap']\n",
    "asterix_data = []\n",
    "TS=[]"
   ]
  },
  {
   "cell_type": "code",
   "execution_count": 4,
   "id": "97f30d70-f118-4002-ae44-b869a41fb8dc",
   "metadata": {},
   "outputs": [],
   "source": [
    "for file in sample_filename:\n",
    "    fichier = file\n",
    "    f = open(fichier, \"rb\")\n",
    "    pcap = dpkt.pcap.Reader(f)\n",
    "    for ts, buf in pcap:\n",
    "        eth = dpkt.ethernet.Ethernet(buf)\n",
    "        data = eth.ip.udp.data\n",
    "        asterix_data.append((data,file[:-5],ts))\n"
   ]
  },
  {
   "cell_type": "code",
   "execution_count": 5,
   "id": "6c8cf29d-aeb0-47ff-9c37-6b6835004911",
   "metadata": {},
   "outputs": [
    {
     "name": "stdout",
     "output_type": "stream",
     "text": [
      "50705\n",
      "<class 'list'>\n",
      "(b'0\\x006\\xff\\xff\\x02\\x08\\n\\x12\\xdd\\xaf\\xa0\\xaa\\xbf\\x0cy\\x02\\x00\\x05\\xa0`\\x07\\xc3@p\\xa7\\x084\\xf2\\xe1\\x08 \\x01\\x10\\x03\\n\\x80\\xf5\\x00\\x00\\x10\\x07W\\x19\\xb8Qh\\x08%\\xb3IF\"\\xf5\"\\x00\\x12\\xf6\\x08\\n\\x02\\x12\\xdd\\xb6\\x10\\x84\\x00 \\x00\\x84\\x00\\x00', '09-10', 1599705660.049571)\n"
     ]
    }
   ],
   "source": [
    "Dataset = [] \n",
    "Dict = {}\n",
    "print(len(asterix_data))\n",
    "print(type(asterix_data))\n",
    "print(asterix_data[0])"
   ]
  },
  {
   "cell_type": "code",
   "execution_count": 6,
   "id": "a588aae7-cc9b-4fc3-86da-0f8f549a1478",
   "metadata": {},
   "outputs": [
    {
     "data": {
      "text/plain": [
       "[{'category': 48,\n",
       "  'len': 51,\n",
       "  'crc': '63365EE5',\n",
       "  'ts': 0,\n",
       "  'hexdata': 'FFFF02080A12DDAFA0AABF0C79020005A06007C34070A70834F2E108200110030A80F5000010075719B851680825B3494622F5',\n",
       "  'I010': {'SAC': {'desc': 'System Area Code', 'val': 8},\n",
       "   'SIC': {'desc': 'System Identification Code', 'val': 10}},\n",
       "  'I140': {'ToD': {'desc': 'Time Of Day', 'val': 9659.3671875}},\n",
       "  'I020': {'TYP': {'desc': 'TYP',\n",
       "    'val': 5,\n",
       "    'meaning': 'Single ModeS Roll-Call'},\n",
       "   'SIM': {'desc': 'SIM', 'val': 0, 'meaning': 'Actual target report'},\n",
       "   'RDP': {'desc': 'RDP', 'val': 0, 'meaning': 'Report from RDP Chain 1'},\n",
       "   'SPI': {'desc': 'SPI', 'val': 0, 'meaning': 'Absence of SPI'},\n",
       "   'RAB': {'desc': 'RAB',\n",
       "    'val': 0,\n",
       "    'meaning': 'Report from aircraft transponder'},\n",
       "   'FX': {'desc': 'FX', 'val': 0, 'meaning': 'End of Data Item'}},\n",
       "  'I040': {'RHO': {'desc': '', 'val': 170.74609375, 'max': 256.0},\n",
       "   'THETA': {'desc': '', 'val': 17.5396728515625}},\n",
       "  'I070': {'V': {'desc': '', 'val': 0, 'meaning': 'Code validated'},\n",
       "   'G': {'desc': '', 'val': 0, 'meaning': 'Default'},\n",
       "   'L': {'desc': '',\n",
       "    'val': 0,\n",
       "    'meaning': 'Mode-3/A code as derived from the reply of the transponder'},\n",
       "   'spare': {'desc': 'spare bit set to 0', 'val': 0, 'const': 0},\n",
       "   'Mode3A': {'desc': 'Mode-3/A reply code', 'val': '1000'}},\n",
       "  'I090': {'V': {'desc': '', 'val': 0, 'meaning': 'Code validated'},\n",
       "   'G': {'desc': '', 'val': 0, 'meaning': 'Default'},\n",
       "   'FL': {'desc': 'FlightLevel', 'val': 360.0}},\n",
       "  'I130': {'SRRP': {'SRR': {'desc': 'SSR-Number of received reply', 'val': 7}},\n",
       "   'SAMP': {'SAM': {'desc': 'SSR-Reply amplitude', 'val': -61.0}}},\n",
       "  'I220': {'ACAddr': {'desc': 'AircraftAddress', 'val': '4070A7'}},\n",
       "  'I240': {'TId': {'desc': 'Characters 1-8 (coded on 6 bits each) defining target identification',\n",
       "    'val': 'BCS28P  '}},\n",
       "  'I250': [{'VAL': {'desc': 'BDS value', 'val': '10030A80F50000'},\n",
       "    'BDS': {'desc': 'BDS register', 'val': '10'}}],\n",
       "  'I161': {'Tn': {'desc': 'Track Number', 'val': 1879}},\n",
       "  'I042': {'X': {'desc': 'X component', 'val': 51.4375},\n",
       "   'Y': {'desc': 'Y component', 'val': 162.8125}},\n",
       "  'I200': {'CGS': {'desc': 'Calculated groundspeed', 'val': 458.1298828125},\n",
       "   'CHdg': {'desc': 'Calculated heading', 'val': 252.1197509765625}},\n",
       "  'I170': {'CNF': {'desc': 'CNF', 'val': 0, 'meaning': 'Confirmed Track'},\n",
       "   'RAD': {'desc': 'RAD', 'val': 2, 'meaning': 'SSR/ModeS Track'},\n",
       "   'DOU': {'desc': 'DOU', 'val': 0, 'meaning': 'Normal confidence'},\n",
       "   'MAH': {'desc': 'MAH', 'val': 0, 'meaning': 'No horizontal man. sensed'},\n",
       "   'CDM': {'desc': 'CDM', 'val': 3, 'meaning': 'Invalid'},\n",
       "   'FX': {'desc': 'FX', 'val': 0, 'meaning': 'End of Data Item'}},\n",
       "  'I230': {'COM': {'desc': 'COM', 'val': 1},\n",
       "   'STAT': {'desc': 'STAT', 'val': 0},\n",
       "   'SI': {'desc': 'SI/II Transponder Capability',\n",
       "    'val': 1,\n",
       "    'meaning': 'II-Code Capable'},\n",
       "   'spare': {'desc': 'spare bit set to 0', 'val': 0, 'const': 0},\n",
       "   'ModeSSSC': {'desc': 'ModeS Specific Service Capability',\n",
       "    'val': 1,\n",
       "    'meaning': 'Yes'},\n",
       "   'ARC': {'desc': 'Altitude reporting capability',\n",
       "    'val': 1,\n",
       "    'meaning': '25ft resolution'},\n",
       "   'AIC': {'desc': 'Aircraft identification capability',\n",
       "    'val': 1,\n",
       "    'meaning': 'Yes'},\n",
       "   'BDS16': {'desc': 'BDS 1,0 bit 16', 'val': 1},\n",
       "   'BDS37': {'desc': 'BDS 1,0 bits 37/40', 'val': 5}}},\n",
       " {'category': 34,\n",
       "  'len': 15,\n",
       "  'crc': 'A1206313',\n",
       "  'ts': 0,\n",
       "  'hexdata': 'F6080A0212DDB61084002000840000',\n",
       "  'I010': {'SAC': {'desc': 'System Area Code', 'val': 8},\n",
       "   'SIC': {'desc': 'System Identification Code', 'val': 10}},\n",
       "  'I000': {'MsgTyp': {'desc': 'Message Type',\n",
       "    'val': 2,\n",
       "    'meaning': 'Sector crossing message'}},\n",
       "  'I030': {'ToD': {'desc': 'Time of day', 'val': 9659.421875}},\n",
       "  'I020': {'Azi': {'desc': 'Antenna azimuth', 'val': 22.5}},\n",
       "  'I050': {'COM': {'NOGO': {'desc': 'Operational Release Status of the System',\n",
       "     'val': 0,\n",
       "     'meaning': 'System is released for operational use'},\n",
       "    'RDPC': {'desc': 'Radar Data Processor Chain Selection Status',\n",
       "     'val': 0,\n",
       "     'meaning': 'RDPC-1 selected'},\n",
       "    'RDPR': {'desc': 'Event to signal a reset/restart of the selected Radar Data Processor Chain',\n",
       "     'val': 0,\n",
       "     'meaning': 'Default'},\n",
       "    'OVLRDP': {'desc': 'Radar Data Processor Overload Indicator',\n",
       "     'val': 0,\n",
       "     'meaning': 'No overload'},\n",
       "    'OVLXMT': {'desc': 'Transmission Subsystem Overload Status',\n",
       "     'val': 0,\n",
       "     'meaning': 'No overload'},\n",
       "    'MSC': {'desc': 'Monitoring System Connected Status',\n",
       "     'val': 0,\n",
       "     'meaning': 'Monitoring system connected'},\n",
       "    'TSV': {'desc': 'Time Source Validity',\n",
       "     'val': 0,\n",
       "     'meaning': 'Time source valid'},\n",
       "    'spare': {'desc': 'spare bit set to 0', 'val': 0, 'const': 0}},\n",
       "   'MDS': {'MDSANT': {'desc': 'Mode S Selected antenna',\n",
       "     'val': 0,\n",
       "     'meaning': 'antenna 1'},\n",
       "    'MDSCHAB': {'desc': 'Mode S Channel A/B selection status for surveillance',\n",
       "     'val': 1,\n",
       "     'meaning': 'Channel A only selected'},\n",
       "    'MDSOVLSUR': {'desc': 'Mode S Overload condition',\n",
       "     'val': 0,\n",
       "     'meaning': 'No overload'},\n",
       "    'MDSMSC': {'desc': 'Mode S Monitoring System Connected Status',\n",
       "     'val': 0,\n",
       "     'meaning': 'Monitoring system connected'},\n",
       "    'MDSSCF': {'desc': 'Mode S Channel A/B sellection for Surveillance Co-ordination Function',\n",
       "     'val': 0,\n",
       "     'meaning': 'Channel A in use'},\n",
       "    'MDSDLF': {'desc': 'Mode S Channel A/B sellection for Data Link Function',\n",
       "     'val': 0,\n",
       "     'meaning': 'Channel A in use'},\n",
       "    'MDSOVLSCF': {'desc': 'Mode S Overload in Surveillance Co-ordination Function',\n",
       "     'val': 0,\n",
       "     'meaning': 'No overload'},\n",
       "    'MDSOVLDLF': {'desc': 'Mode S Overload in Data Link Function',\n",
       "     'val': 0,\n",
       "     'meaning': 'No overload'},\n",
       "    'spare': {'desc': 'spare bit set to 0', 'val': 0, 'const': 0}}},\n",
       "  'I060': {'COM': {'spare': {'desc': 'spare bit set to 0',\n",
       "     'val': 0,\n",
       "     'const': 0},\n",
       "    'REDRDP': {'desc': 'Reduction Steps in use for an overload of the RDP',\n",
       "     'val': 0,\n",
       "     'meaning': 'No reduction active'},\n",
       "    'REDXMT': {'desc': 'Reduction Steps in use for an overload of the Transmission subsystem',\n",
       "     'val': 0,\n",
       "     'meaning': 'No reduction active'}},\n",
       "   'MDS': {'MDSREDRAD': {'desc': 'Reduction Steps in use as result of an overload within the Mode S subsystem',\n",
       "     'val': 0,\n",
       "     'meaning': 'No reduction active'},\n",
       "    'CLU': {'desc': 'Cluster State', 'val': 0, 'meaning': 'Autonomous'},\n",
       "    'spare': {'desc': 'spare bit set to 0', 'val': 0, 'const': 0}}}}]"
      ]
     },
     "execution_count": 6,
     "metadata": {},
     "output_type": "execute_result"
    }
   ],
   "source": [
    "x = asterix.parse(asterix_data[0][0])\n",
    "x"
   ]
  },
  {
   "cell_type": "code",
   "execution_count": 7,
   "id": "4c1cda88-fefc-4adc-98c5-3948ac7a58c7",
   "metadata": {},
   "outputs": [],
   "source": [
    "for k in asterix_data:\n",
    "    pars = asterix.parse(k[0])\n",
    "    for i in range(len(pars)):\n",
    "        parsed = pars[i]\n",
    "        if parsed['category'] ==48 :\n",
    "            Dict['date'] = k[1]\n",
    "            if 'I040' in parsed.keys():\n",
    "                Dict['RHO'] = parsed['I040']['RHO']['val']\n",
    "                Dict['THETA'] = parsed['I040']['THETA']['val']\n",
    "            else:\n",
    "                Dict['RHO'] = np.nan\n",
    "                Dict['THETA'] = np.nan\n",
    "            Dict['TS']= k[2]\n",
    "            Dict['len'] = parsed['len']\n",
    "            Dict['crc'] = parsed['crc']\n",
    "            if 'I090' in parsed.keys():\n",
    "                Dict['FL'] = parsed['I090']['FL']['val']\n",
    "            else :\n",
    "                Dict['FL'] = np.nan\n",
    "            Dict['SAC'] = parsed['I010']['SAC']['val']\n",
    "            Dict['SIC'] = parsed['I010']['SIC']['val']\n",
    "            Dict['TOD'] = parsed['I140']['ToD']['val']\n",
    "            Dict['TYP'] = parsed['I020']['TYP']['val']\n",
    "            if 'I240' in parsed.keys():\n",
    "                Dict['TID'] = parsed['I240']['TId']['val']\n",
    "            else :\n",
    "                Dict['TID'] = np.nan\n",
    "            if 'I200' in parsed.keys():\n",
    "                Dict['CGS'] = parsed['I200']['CGS']['val']\n",
    "                Dict['CHdg'] = parsed['I200']['CHdg']['val']\n",
    "            else: \n",
    "                Dict['CGS'] = np.nan\n",
    "                Dict['CHdg'] = np.nan\n",
    "            Dataset.append(Dict)\n",
    "        Dict={}"
   ]
  },
  {
   "cell_type": "code",
   "execution_count": 8,
   "id": "e01dc328-cb54-4917-8d81-6f912f974b75",
   "metadata": {},
   "outputs": [],
   "source": [
    "df = pd.DataFrame(Dataset)\n"
   ]
  },
  {
   "cell_type": "code",
   "execution_count": 9,
   "id": "4f6cadff-9039-4fd5-b545-6c4837928788",
   "metadata": {},
   "outputs": [
    {
     "data": {
      "text/plain": [
       "116003"
      ]
     },
     "execution_count": 9,
     "metadata": {},
     "output_type": "execute_result"
    }
   ],
   "source": [
    "len(df)"
   ]
  },
  {
   "cell_type": "code",
   "execution_count": 10,
   "id": "c9d75d1a-bd74-4f40-814b-91e6f6f66b3d",
   "metadata": {},
   "outputs": [
    {
     "data": {
      "text/plain": [
       "(116003, 14)"
      ]
     },
     "execution_count": 10,
     "metadata": {},
     "output_type": "execute_result"
    }
   ],
   "source": [
    "df.shape"
   ]
  },
  {
   "cell_type": "code",
   "execution_count": 11,
   "id": "126c8a06-062e-4dc3-8fb5-cce01ab1c338",
   "metadata": {},
   "outputs": [
    {
     "data": {
      "text/plain": [
       "BCS28P      50705\n",
       "AFR225       2665\n",
       "TAY4216      2401\n",
       "AFR257       2373\n",
       "TAY4958      1917\n",
       "            ...  \n",
       "FPO4782         3\n",
       "JMP232          3\n",
       "EDYY            3\n",
       "HUAF651         2\n",
       "KLM702          2\n",
       "Name: TID, Length: 237, dtype: int64"
      ]
     },
     "execution_count": 11,
     "metadata": {},
     "output_type": "execute_result"
    }
   ],
   "source": [
    "df['TID'].value_counts()"
   ]
  },
  {
   "cell_type": "code",
   "execution_count": 12,
   "id": "900f6eab-6ed9-4924-8820-7ba7eefdb800",
   "metadata": {},
   "outputs": [],
   "source": [
    "df.to_csv('data.csv')"
   ]
  },
  {
   "cell_type": "code",
   "execution_count": null,
   "id": "6c1f23d9-e66e-4ef4-a366-c326179f1370",
   "metadata": {},
   "outputs": [],
   "source": []
  }
 ],
 "metadata": {
  "kernelspec": {
   "display_name": "Python 3 (ipykernel)",
   "language": "python",
   "name": "python3"
  },
  "language_info": {
   "codemirror_mode": {
    "name": "ipython",
    "version": 3
   },
   "file_extension": ".py",
   "mimetype": "text/x-python",
   "name": "python",
   "nbconvert_exporter": "python",
   "pygments_lexer": "ipython3",
   "version": "3.9.7"
  }
 },
 "nbformat": 4,
 "nbformat_minor": 5
}
